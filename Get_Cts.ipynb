{
 "cells": [
  {
   "cell_type": "code",
   "execution_count": 1,
   "id": "35fef62f",
   "metadata": {},
   "outputs": [],
   "source": [
    "import pandas as pd\n",
    "import numpy as np \n",
    "import glob\n",
    "import os"
   ]
  },
  {
   "cell_type": "code",
   "execution_count": 2,
   "id": "e56ee2e4",
   "metadata": {},
   "outputs": [],
   "source": [
    "a = (input(\"Enter the path to the working directory: \"))\n",
    "os.chdir(a)"
   ]
  },
  {
   "cell_type": "code",
   "execution_count": null,
   "id": "5e45624f",
   "metadata": {},
   "outputs": [],
   "source": [
    "all_filenames = [i for i in glob.glob('*.csv')]\n",
    "print(all_filenames)\n",
    "\n",
    "df = pd.concat([pd.read_csv(f, skiprows = 12) for f in all_filenames], ignore_index=True)\n",
    "df.reset_index(drop=True)\n",
    "filt = (\n",
    "    (df['Sample Name'] == 'PC') | \n",
    "    (df['Sample Name'] == 'PC1') |\n",
    "    (df['Sample Name'] == 'PC2') |\n",
    "    (df['Sample Name'] == 'PC-1') |\n",
    "    (df['Sample Name'] == 'PC-2') |\n",
    "    (df['Sample Name'] == 'pc1') |\n",
    "    (df['Sample Name'] == 'pc2') |\n",
    "    (df['Sample Name'] == 'NC') | \n",
    "    (df['Sample Name'] == 'NC2') |\n",
    "    (df['Sample Name'] == 'NC-1') | \n",
    "    (df['Sample Name'] == 'NC-2') | \n",
    "    (df['Sample Name'] == 'NC-3')\n",
    "    )\n",
    "\n",
    "df = df[filt]\n",
    "df = df[['Batch ID', 'Sample Name', 'ORF1ab Ct', 'N gene Ct', 'S gene Ct', 'MS2 Ct']]\n",
    "df"
   ]
  },
  {
   "cell_type": "code",
   "execution_count": null,
   "id": "9430f532",
   "metadata": {},
   "outputs": [],
   "source": [
    "ORF1ab = list(df[\"ORF1ab Ct\"])\n",
    "ORF1ab = [ct for ct in ORF1ab if not(pd.isnull(ct)) == True]\n",
    "print(\"ORF1ab\", ORF1ab)\n",
    "\n",
    "Ngene = list(df[\"N gene Ct\"])\n",
    "Ngene = [ct for ct in Ngene if not(pd.isnull(ct)) == True]\n",
    "print(\"Ngene\", Ngene)\n",
    "\n",
    "Sgene = list(df[\"S gene Ct\"])\n",
    "Sgene = [ct for ct in Sgene if not(pd.isnull(ct)) == True]\n",
    "print(\"Sgene\", Sgene)\n",
    "\n",
    "MS2 = list(df[\"MS2 Ct\"])\n",
    "MS2 = [ct for ct in MS2 if not(pd.isnull(ct)) == True]\n",
    "print(\"MS2\", MS2)"
   ]
  }
 ],
 "metadata": {
  "kernelspec": {
   "display_name": "Python 3",
   "language": "python",
   "name": "python3"
  },
  "language_info": {
   "codemirror_mode": {
    "name": "ipython",
    "version": 3
   },
   "file_extension": ".py",
   "mimetype": "text/x-python",
   "name": "python",
   "nbconvert_exporter": "python",
   "pygments_lexer": "ipython3",
   "version": "3.11.1"
  },
  "vscode": {
   "interpreter": {
    "hash": "853f01df416f9b6b452f137e2a36198d6e629a7bb44a1f05230e2b1718f523f7"
   }
  }
 },
 "nbformat": 4,
 "nbformat_minor": 5
}
